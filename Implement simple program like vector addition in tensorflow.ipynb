{
 "cells": [
  {
   "cell_type": "code",
   "execution_count": 1,
   "id": "2bfabbc5-7b04-489f-9b10-80dcfc18fbe3",
   "metadata": {},
   "outputs": [
    {
     "name": "stdout",
     "output_type": "stream",
     "text": [
      "Vector 1: [1 2 3]\n",
      "Vector 2: [4 5 6]\n",
      "Vector Sum (Addition): [5 7 9]\n",
      "Vector Difference (Subtraction): [-3 -3 -3]\n",
      "Vector Product (Element-wise Multiplication): [ 4 10 18]\n",
      "Vector Quotient (Element-wise Division): [0.25 0.4  0.5 ]\n"
     ]
    }
   ],
   "source": [
    "import tensorflow as tf\n",
    "\n",
    "# Define two constant vectors\n",
    "vector1 = tf.constant([1, 2, 3])\n",
    "vector2 = tf.constant([4, 5, 6])\n",
    "\n",
    "# Perform element-wise addition\n",
    "vector_sum = tf.add(vector1, vector2)\n",
    "\n",
    "# Perform element-wise subtraction\n",
    "vector_sub = tf.subtract(vector1, vector2)\n",
    "\n",
    "# Perform element-wise multiplication\n",
    "vector_mul = tf.multiply(vector1, vector2)\n",
    "\n",
    "# Perform element-wise division\n",
    "vector_div = tf.divide(vector1, vector2)\n",
    "\n",
    "# Print results\n",
    "print(\"Vector 1:\", vector1.numpy())\n",
    "print(\"Vector 2:\", vector2.numpy())\n",
    "print(\"Vector Sum (Addition):\", vector_sum.numpy())\n",
    "print(\"Vector Difference (Subtraction):\", vector_sub.numpy())\n",
    "print(\"Vector Product (Element-wise Multiplication):\", vector_mul.numpy())\n",
    "print(\"Vector Quotient (Element-wise Division):\", vector_div.numpy())\n"
   ]
  },
  {
   "cell_type": "code",
   "execution_count": null,
   "id": "4f46bb93-0447-4a5e-8b40-ce88e0034d98",
   "metadata": {},
   "outputs": [],
   "source": [
    "Explanation:\n",
    "\n",
    "Define Vectors: tf.constant is used to create constant tensors (vectors in this case).\n",
    "\n",
    "Element-wise Operations: TensorFlow provides built-in functions like tf.add, tf.subtract, tf.multiply, and tf.divide for vector operations.\n",
    "\n",
    "Convert Tensor to NumPy: .numpy() converts the TensorFlow tensor to a NumPy array for easier reading in the output.\n",
    "\n",
    "Output Results: Print the vectors and the results of operations.\n",
    "\n",
    "You can modify the vectors vector1 and vector2 as needed to test other scenarios."
   ]
  },
  {
   "cell_type": "code",
   "execution_count": 3,
   "id": "5777746f-d4c2-4761-a7c1-892cc31d7c29",
   "metadata": {},
   "outputs": [
    {
     "name": "stdin",
     "output_type": "stream",
     "text": [
      "Enter the elements of the first vector, separated by spaces:  1 1 1\n",
      "Enter the elements of the second vector, separated by spaces:  1 1 1\n"
     ]
    },
    {
     "name": "stdout",
     "output_type": "stream",
     "text": [
      "Vector 1: [1 1 1]\n",
      "Vector 2: [1 1 1]\n",
      "Vector Sum (Addition): [2 2 2]\n",
      "Vector Difference (Subtraction): [0 0 0]\n",
      "Vector Product (Element-wise Multiplication): [1 1 1]\n",
      "Vector Quotient (Element-wise Division): [1. 1. 1.]\n"
     ]
    }
   ],
   "source": [
    "import tensorflow as tf\n",
    "\n",
    "# Take input from the user for the two vectors\n",
    "vector1 = input(\"Enter the elements of the first vector, separated by spaces: \")\n",
    "vector2 = input(\"Enter the elements of the second vector, separated by spaces: \")\n",
    "\n",
    "# Convert the input strings into lists of integers\n",
    "vector1 = tf.constant([int(x) for x in vector1.split()])\n",
    "vector2 = tf.constant([int(x) for x in vector2.split()])\n",
    "\n",
    "# Perform element-wise operations\n",
    "vector_sum = tf.add(vector1, vector2)\n",
    "vector_sub = tf.subtract(vector1, vector2)\n",
    "vector_mul = tf.multiply(vector1, vector2)\n",
    "vector_div = tf.divide(vector1, vector2)\n",
    "\n",
    "# Print results\n",
    "print(\"Vector 1:\", vector1.numpy())\n",
    "print(\"Vector 2:\", vector2.numpy())\n",
    "print(\"Vector Sum (Addition):\", vector_sum.numpy())\n",
    "print(\"Vector Difference (Subtraction):\", vector_sub.numpy())\n",
    "print(\"Vector Product (Element-wise Multiplication):\", vector_mul.numpy())\n",
    "print(\"Vector Quotient (Element-wise Division):\", vector_div.numpy())"
   ]
  },
  {
   "cell_type": "code",
   "execution_count": null,
   "id": "93b089b9-6452-499f-ac15-53911469d63b",
   "metadata": {},
   "outputs": [],
   "source": [
    "Input Handling:\n",
    "\n",
    "The program asks the user to input the elements of each vector as space-separated values.\n",
    "\n",
    "The split() method breaks the string into a list of strings, which are then converted to integers using a list comprehension.\n",
    "\n",
    "Tensor Conversion:\n",
    "\n",
    "The lists are converted into TensorFlow constants using tf.constant.\n",
    "\n",
    "Perform Operations:\n",
    "\n",
    "TensorFlow operations (add, subtract, multiply, and divide) are performed on the tensors.\n",
    "\n",
    "Print Results:\n",
    "\n",
    "The results are converted to NumPy arrays and displayed."
   ]
  }
 ],
 "metadata": {
  "kernelspec": {
   "display_name": "Python 3 (ipykernel)",
   "language": "python",
   "name": "python3"
  },
  "language_info": {
   "codemirror_mode": {
    "name": "ipython",
    "version": 3
   },
   "file_extension": ".py",
   "mimetype": "text/x-python",
   "name": "python",
   "nbconvert_exporter": "python",
   "pygments_lexer": "ipython3",
   "version": "3.12.7"
  }
 },
 "nbformat": 4,
 "nbformat_minor": 5
}
